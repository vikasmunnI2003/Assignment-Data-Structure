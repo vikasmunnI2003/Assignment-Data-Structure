{
  "nbformat": 4,
  "nbformat_minor": 0,
  "metadata": {
    "colab": {
      "provenance": []
    },
    "kernelspec": {
      "name": "python3",
      "display_name": "Python 3"
    },
    "language_info": {
      "name": "python"
    }
  },
  "cells": [
    {
      "cell_type": "markdown",
      "source": [
        "Data Types and Structures Questions\n"
      ],
      "metadata": {
        "id": "NNodbZwRPSCU"
      }
    },
    {
      "cell_type": "markdown",
      "source": [
        "QUS 1:-  What are data structures, and why are they important\n",
        "ANS :- A data structure is a way of organizing and storing data in a computer so that it can be used efficiently.\n",
        ":- Types of Data Structures\n",
        "(1) Array\n",
        "(2) List (Linked List)\n",
        "(3) Stack\n",
        "(4) Queue\n",
        "Non-linear Data Structures\n",
        "(1) Tree\n",
        "(2) Graph\n",
        "Why Are Data Structures Important\n",
        ":- Efficiency:\n",
        ":- Organized Data Handling:\n",
        ":- Reusability:\n",
        ":- Problem Solving\n",
        ":- Real-world Modeling:"
      ],
      "metadata": {
        "id": "JGNY3FKAj5Iv"
      }
    },
    {
      "cell_type": "markdown",
      "source": [
        "QUS 2:- Explain the difference between mutable and immutable data types with examples\n",
        "ANS :- (1) Mutable Data Types\n",
        "Mutable objects can be changed after creation — you can modify their content (like adding, removing, or changing elements) without changing their identity.\n",
        "EX (1) list\n",
        "(2) dict (dictionary)\n",
        "(3) set\n",
        " (2) Immutable Data Typesint\n",
        "(1) float\n",
        "(2) str (string)\n",
        "(3) tuple\n",
        "(4) frozenset"
      ],
      "metadata": {
        "id": "pI46G5idlWgl"
      }
    },
    {
      "cell_type": "markdown",
      "source": [
        "QUS 3:-  What are the main differences between lists and tuples in Python\n",
        "ANS :- MUTABLE - LIST(YES) - TUPLE(N0)\n",
        "       SYNTAX  - []  -   ()\n",
        "       PERFORMANCE - SLOWER - FASTER\n",
        "       METHODS  - MANY  - FEW\n",
        "       USE AS DICT KEY-NOT ALLOWED -ALLOWED  \n",
        "       BEST FOR - DYNAMIC COLLECTIONS -FIXED COLLECTIONS"
      ],
      "metadata": {
        "id": "lUvTRfRcmZdZ"
      }
    },
    {
      "cell_type": "markdown",
      "source": [
        "QUS 4 :-  Describe how dictionaries store data\n",
        "ANS :- (!)Hashing:\n",
        " Each key is passed through a hash function, which converts it into a unique hash code (an integer).\n",
        "(2) Indexing:\n",
        "This hash code determines where the key-value pair will be stored in memory.\n",
        "Collision\n",
        "(3) Handling:\n",
        " If two keys produce the same hash, Python handles it internally using open addressing or chaining to resolve the conflict."
      ],
      "metadata": {
        "id": "45uP3n0oq5sP"
      }
    },
    {
      "cell_type": "markdown",
      "source": [
        "QUS 5:-  Why might you use a set instead of a list in Python\n",
        "ANS:- (1) No Duplicates Allowed\n",
        "Sets automatically remove duplicates.\n",
        "Use a set when you want to store unique values only.\n",
        "(2) Faster Membership Tests\n",
        "Sets are much faster than lists for checking whether an item exists (on average, O(1) vs. O(n)).\n",
        "(3) Useful for Set Operations\n",
        "Union (|)\n",
        "Intersection (&)\n",
        "Difference (-)\n",
        "Symmetric difference (^)\n",
        " (4) Cleaner Code When You Only Care About Unique Items"
      ],
      "metadata": {
        "id": "kBvK60VIr7v_"
      }
    },
    {
      "cell_type": "markdown",
      "source": [
        "QUS 6:-  What is a string in Python, and how is it different from a list\n",
        "What is a String in Python :- A string is a sequence of characters enclosed in quotes (single, double, or triple) in Python.\n",
        "Definition\t- Sequence of characters\t- Sequence of any data types\n",
        "Mutable    -  No (Immutable)         -  YES\n",
        "Elements    - Only characters        -  Any type (int, float, string, etc.)\n",
        "Syntax      - Quotes: \"Hello\"\t       -   Brackets: [1, 2, 3]\n",
        "Indexing/Slicing  - YES              - YES\n",
        "Methods     - String-specific methods - \tList-specific methods\n",
        "\n"
      ],
      "metadata": {
        "id": "ZUo6v-0qt_2v"
      }
    },
    {
      "cell_type": "markdown",
      "source": [
        "QUS 7:-  How do tuples ensure data integrity in Python\n",
        "ANS :- Tuples in Python help ensure data integrity mainly due to their immutability. Here’s how that works and why it’s important:\n",
        "(!) Once a tuple is created, its elements cannot be changed, added, or removed.\n",
        "(2) This makes tuples reliable containers for data that should remain constant throughout the program.\n",
        "(1) Feature :- \tContribution to Integrity\n",
        "(2) Immutable\t :- Prevents accidental or intentional data modification\n",
        "(3) Hashable\t :- Safe to use in sets/dicts as keys\n",
        "(4) Fixed Size :-\tProtects against adding/removing elements\n",
        "(5) Semantic Clarity :-\tSignals to other developers that data shouldn't change"
      ],
      "metadata": {
        "id": "cy_ZScpDwL5d"
      }
    },
    {
      "cell_type": "markdown",
      "source": [
        "QUS 8:- What is a hash table, and how does it relate to dictionaries in Python\n",
        "ANS :- A hash table is a data structure that stores key-value pairs and uses a hash function to compute an index also called a hash code into an array of buckets or slots. This allows for fast access, insertion, and deletion—on average, in constant time\n",
        "HOW IT WORKS :-\n",
        "(1) A key is passed through a hash function.\n",
        "(2) The hash function returns an index.\n",
        "(3) The key-value pair is stored in the array at that index.\n",
        "\n",
        "| Feature             | Hash Table                 | Python Dictionary (`dict`)       |\n",
        "| ------------------- | -------------------------- | -------------------------------- |\n",
        "| Storage format      | Key-value pairs            | Key-value pairs                  |\n",
        "| Implementation base | Array + hash function      | Hash table (C-implemented)       |\n",
        "| Key requirements    | Hashable (immutable)       | Hashable (e.g., str, int, tuple) |\n",
        "| Access time         | O(1) average               | O(1) average                     |\n",
        "| Collision handling  | Chaining / Open addressing | Chaining (internally managed)    |\n",
        "\n"
      ],
      "metadata": {
        "id": "Xih7VH-r-srd"
      }
    },
    {
      "cell_type": "markdown",
      "source": [
        "QUS 9:- Can lists contain different data types in Python\n",
        "ANS :- lists in Python can contain different data types.\n",
        "\n",
        "Python lists are heterogeneous, meaning they can store a mix of data types within the same list. This flexibility comes from Python being a dynamically typed language.\n",
        "EX\n",
        "INTEGER =42\n",
        "STRING =HELLO\n",
        "FLOAT = 3.14\n",
        "BOOLEAN = TRUE\n",
        "NESTED LIST = [1,2,3,]\n",
        "DICTIONAARY {'KEY : VALUE'}\n",
        "WHY IS THIS USEFUL\n",
        ":- Great for flexibility in data storage.\n",
        ":- Ideal for combining related but differently typed data.\n",
        ":-Useful in data processing, configurations, and     general-purpose scripting."
      ],
      "metadata": {
        "id": "XGH3z_qwANRk"
      }
    },
    {
      "cell_type": "markdown",
      "source": [
        "QUS 10 :- Explain why strings are immutable in Python\n",
        "ANS :- Strings are immutable in Python, meaning once a string is created, it cannot be changed. Any operation that seems to modify a string actually creates a new string object.\n",
        "WHY DID PYTHON MAKE STRINGS IMMUTABLE\n",
        "(1) Hashing & Dictionary Keys\n",
        "Immutable objects like strings are hashable, which means their hash value stays constant.\n",
        "This allows strings to be used as keys in dictionaries or elements in sets.\n",
        "(2) Security & Consistency\n",
        "Immutability makes it safe to share strings across parts of a program without worrying about unexpected changes.\n",
        "This is important in multi-threaded or large-scale programs.\n",
        "(3) Efficiency\n",
        "Since strings don’t change, Python can reuse string objects in memory (called string interning) to save space and improve speed.\n",
        "(4) Simplicity\n",
        "Immutable types make debugging and reasoning about code easier, since you can trust that a string won’t change behind the scenes.\n"
      ],
      "metadata": {
        "id": "f_twVNtQB2Gb"
      }
    },
    {
      "cell_type": "markdown",
      "source": [
        "QUS 11:-  What advantages do dictionaries offer over lists for certain tasks\n",
        "| Feature              | Dictionary (`dict`)                                 | List  \n",
        "| **Key-based access** | Access values by **unique keys**                    | Access by **index only**     |\n",
        "| **Fast lookup time** | O(1) average time using hashing                     | O(n) time (linear search)    |\n",
        "| **Data mapping**     | Ideal for storing **key-value pairs**               | Not designed for mapping     |\n",
        "| **Clarity**          | Improves code readability when keys are descriptive | Indexes can be ambiguous     |\n",
        "| **Flexible keys**    | Use strings, numbers, tuples as keys                | No keys—only numeric indices |\n",
        "\n"
      ],
      "metadata": {
        "id": "ctBMg1TFCB7f"
      }
    },
    {
      "cell_type": "markdown",
      "source": [
        "QUS 12:- Describe a scenario where using a tuple would be preferable over a list\n",
        "Scenario Where a Tuple Is Preferable Over a List\n",
        "A tuple is preferable over a list when you want to store a fixed collection of items that should not change. Tuples are immutable, meaning they cannot be modified after creation. This immutability makes them useful for:\n",
        ":- The data should not change.\n",
        ":- You need to protect data integrity.\n",
        ":-You want to use the data as a dictionary key or set element."
      ],
      "metadata": {
        "id": "yEqMeqGsEeX8"
      }
    },
    {
      "cell_type": "markdown",
      "source": [
        "QUS 13:- How do sets handle duplicate values in Python\n",
        "ANS :- How Sets Handle Duplicate Values in Python\n",
        "Sets in Python automatically remove duplicate values. When you create a set, any duplicate entries are discarded, and only unique elements are stored.\n",
        "FEATURE     :-   SET BEHAVIUOR\n",
        "DUPLICATES  :-   AUTOMATICALLY REMOVED\n",
        "STORAGE     :-   HASH TABLE\n",
        "USE CASE    :-   ENFORCING UNIQUENESS MEMBERSHIP TEST  \n",
        "\n"
      ],
      "metadata": {
        "id": "NJ2fGMROEWjW"
      }
    },
    {
      "cell_type": "markdown",
      "source": [
        "QUS 14 :-  How does the “in” keyword work differently for lists and dictionaries\n",
        "ANS :- Great question! The in keyword is used in both lists and dictionaries in Python, but it behaves differently depending on the data structure.\n",
        "Data Structure|Expression|Checks For|Time Complexit\n",
        "list          |X in list |valu existence| o(n)\n",
        "Dictionary    |x in dict | key existenec |o(1)average\n",
        "dictioary     |x in dict values|value existence|o(n)"
      ],
      "metadata": {
        "id": "YG9L0OTzG2JM"
      }
    },
    {
      "cell_type": "markdown",
      "source": [
        "qus 15:- Can you modify the elements of a tuple? Explain why or why not\n",
        "ans :- No, you cannot modify the elements of a tuple after it's created. Tuples are immutable—this means their contents cannot be changed, added to, or removed once defined.\n",
        "(1) Safety and Integrity\n",
        " Immutability ensures data can't be changed accidentally—useful for constants or fixed collections.\n",
        "(2) Hashability\n",
        "Because they are immutable, tuples can be hashed (if they only contain hashable elements).\n",
        "This makes tuples usable as keys in dictionaries or as set elements—lists cannot be used this way.\n",
        "\n",
        "\n",
        "\n"
      ],
      "metadata": {
        "id": "H0lmF9UkJUBH"
      }
    },
    {
      "cell_type": "markdown",
      "source": [
        "QUS 16 :- What is a nested dictionary, and give an example of its use case\n",
        "A nested dictionary is a dictionary within another dictionary. It allows you to store complex, hierarchical, or grouped data in a structured way using multiple levels of key-value pairs.\n",
        "(1) A nested dictionary is a dictionary that contains other dictionaries as values.\n",
        "(2) Great for representing structured and hierarchical data.\n",
        "(3) Used often in real-world applications like databases, APIs, and configuration systems."
      ],
      "metadata": {
        "id": "7u0qIzRYKM80"
      }
    },
    {
      "cell_type": "markdown",
      "source": [
        "QUS 17:-  Describe the time complexity of accessing elements in a dictionary\n",
        "ANS :- Accessing elements in a dictionary is very efficient thanks to its underlying hash table implementation. Many keys produce the same hash (causing collisions).\n",
        "Python has to scan multiple entries in the same hash bucket.\n",
        "But this is uncommon because:\n",
        "Python handles collisions efficiently using open addressing and probing.\n",
        "The hash table dynamically resizes to minimize collisions.\n",
        "\n",
        "\n"
      ],
      "metadata": {
        "id": "S80LICqdK7Cu"
      }
    },
    {
      "cell_type": "markdown",
      "source": [
        "QUS 18:-  In what situations are lists preferred over dictionaries\n",
        "ANS :- While dictionaries are great for key-value lookups, lists are better in scenarios where order, sequence, or indexing is more important than named associations.\n",
        "(1) Use a List When\n",
        "You care about order or positio\n",
        "You need fast iteration\n",
        "Data is homogeneous and simple\n",
        "You want indexing/slicing\n",
        "\n",
        "(2) Use a Dictionary When...\n",
        "You care about labels or keys\n",
        "You need fast lookups by key\n",
        "Data is structured and named\n",
        "You want key-based access\n",
        "\n"
      ],
      "metadata": {
        "id": "bvUeolEHLbXa"
      }
    },
    {
      "cell_type": "markdown",
      "source": [
        "QUS 19:-  Why are dictionaries considered unordered, and how does that affect data retrieva\n",
        "ANS :-  Historical Context:\n",
        "Before Python 3.7, dictionaries were inherently unordered, meaning:\n",
        "The order in which key-value pairs were inserted was not preserved.\n",
        "You couldn't rely on the order when looping through or printing the dictionary.\n",
        "Keys and their values appear in the order they were added.\n",
        "But logically, dictionaries are still treated as unordered mappings because:\n",
        "Their main purpose is key-based access, not order-based access.\n",
        "They don’t support positional indexing like lists.\n",
        "Dictionaries were unordered in versions before Python 3.7.\n",
        "In Python 3.7+, they preserve insertion order, but are still used for key-value mapping, not indexing.\n"
      ],
      "metadata": {
        "id": "gmurPftcNGlK"
      }
    },
    {
      "cell_type": "markdown",
      "source": [
        "QUS 20:-  Explain the difference between a list and a dictionary in terms of data retrieval.\n",
        "ANS :- Both lists and dictionaries are used to store collections of data in Python, but they differ significantly in how you retrieve that data.\n",
        "Feature                     List                              Dictionary\n",
        "Access type\t | Index-based (e.g., list[0])\t|Ordered (from position 0 onward)\n",
        "Keys or indexes\t|Uses integer indices |Uses unique keys (any hashable type)\n",
        "\n",
        "Order dependency\t|Ordered (from position 0 onward)|\tInsertion-ordered (Python 3.7+) but accessed by key\n",
        "\n"
      ],
      "metadata": {
        "id": "oO6E3ZrZNyd2"
      }
    },
    {
      "cell_type": "markdown",
      "source": [
        " Practical Questions\n"
      ],
      "metadata": {
        "id": "TCl6TvR2PELn"
      }
    },
    {
      "cell_type": "markdown",
      "source": [
        "QUS 1:-  Write a code to create a string with your name and print it"
      ],
      "metadata": {
        "id": "cWqG5WSQomoL"
      }
    },
    {
      "cell_type": "code",
      "source": [
        "# Create a string with your name\n",
        "name = \"Vikas Kumar\"\n",
        "\n",
        "# Print the name\n",
        "print(\"My name is:\", name)\n",
        "\n"
      ],
      "metadata": {
        "colab": {
          "base_uri": "https://localhost:8080/"
        },
        "id": "oB_gG0F4otsS",
        "outputId": "854ce4ea-594e-41f5-aed9-ae6bbe39a43f"
      },
      "execution_count": 2,
      "outputs": [
        {
          "output_type": "stream",
          "name": "stdout",
          "text": [
            "My name is: Vikas Kumar\n"
          ]
        }
      ]
    },
    {
      "cell_type": "markdown",
      "source": [
        "QUS 2:- Write a code to find the length of the string \"Hello World\""
      ],
      "metadata": {
        "id": "Rua54zDvpEPU"
      }
    },
    {
      "cell_type": "code",
      "source": [
        "# Define the string\n",
        "text = \"Hello World\"\n",
        "\n",
        "# Find and print the length\n",
        "length = len(text)\n",
        "print(\"Length of the string:\", length)\n"
      ],
      "metadata": {
        "colab": {
          "base_uri": "https://localhost:8080/"
        },
        "id": "NtIeSnNKpIca",
        "outputId": "3a2641d3-51fd-4e3d-ddc6-a44eaa80cf6a"
      },
      "execution_count": 3,
      "outputs": [
        {
          "output_type": "stream",
          "name": "stdout",
          "text": [
            "Length of the string: 11\n"
          ]
        }
      ]
    },
    {
      "cell_type": "markdown",
      "source": [
        "QUS 3 :-Write a code to slice the first 3 characters from the string \"Python Programming\""
      ],
      "metadata": {
        "id": "dghJD3hrpPqU"
      }
    },
    {
      "cell_type": "code",
      "source": [
        "# Define the string\n",
        "text = \"Python Programming\"\n",
        "\n",
        "# Slice the first 3 characters\n",
        "sliced_text = text[:3]\n",
        "\n",
        "# Print the result\n",
        "print(\"First 3 characters:\", sliced_text)\n"
      ],
      "metadata": {
        "colab": {
          "base_uri": "https://localhost:8080/"
        },
        "id": "rblEn0X7pUzm",
        "outputId": "834ed6d4-a5f0-450b-b3a5-a1212c807790"
      },
      "execution_count": 4,
      "outputs": [
        {
          "output_type": "stream",
          "name": "stdout",
          "text": [
            "First 3 characters: Pyt\n"
          ]
        }
      ]
    },
    {
      "cell_type": "markdown",
      "source": [
        "QUS 4 :-  Write a code to convert the string \"hello\" to uppercase\n"
      ],
      "metadata": {
        "id": "eg6EoK1EpcyZ"
      }
    },
    {
      "cell_type": "code",
      "source": [
        "# Define the string\n",
        "text = \"hello\"\n",
        "\n",
        "# Convert to uppercase\n",
        "upper_text = text.upper()\n",
        "\n",
        "# Print the result\n",
        "print(\"Uppercase:\", upper_text)\n"
      ],
      "metadata": {
        "colab": {
          "base_uri": "https://localhost:8080/"
        },
        "id": "mfQe-yWFp5zS",
        "outputId": "d6253c04-8bea-429b-c76e-ff5d59c7258d"
      },
      "execution_count": 5,
      "outputs": [
        {
          "output_type": "stream",
          "name": "stdout",
          "text": [
            "Uppercase: HELLO\n"
          ]
        }
      ]
    },
    {
      "cell_type": "markdown",
      "source": [
        "QUS 5:-  Write a code to replace the word \"apple\" with \"orange\" in the string \"I like apple\""
      ],
      "metadata": {
        "id": "UKnOwwCGp-od"
      }
    },
    {
      "cell_type": "code",
      "source": [
        "# Define the string\n",
        "text = \"I like apple\"\n",
        "\n",
        "# Replace 'apple' with 'orange'\n",
        "new_text = text.replace(\"apple\", \"orange\")\n",
        "\n",
        "# Print the result\n",
        "print(new_text)\n"
      ],
      "metadata": {
        "colab": {
          "base_uri": "https://localhost:8080/"
        },
        "id": "ABCqDG15qON-",
        "outputId": "c7177dd8-8efd-4534-9c39-a62dd3b7e0a7"
      },
      "execution_count": 6,
      "outputs": [
        {
          "output_type": "stream",
          "name": "stdout",
          "text": [
            "I like orange\n"
          ]
        }
      ]
    },
    {
      "cell_type": "markdown",
      "source": [
        "QUS 6:-  Write a code to create a list with numbers 1 to 5 and print it\n"
      ],
      "metadata": {
        "id": "81fYJt7bqRTl"
      }
    },
    {
      "cell_type": "code",
      "source": [
        "# Create the list\n",
        "numbers = [1, 2, 3, 4, 5]\n",
        "\n",
        "# Print the list\n",
        "print(\"List of numbers:\", numbers)\n"
      ],
      "metadata": {
        "colab": {
          "base_uri": "https://localhost:8080/"
        },
        "id": "mITneBZDqXyL",
        "outputId": "41747c6d-ac75-4a75-fd52-eb1c8dab56db"
      },
      "execution_count": 7,
      "outputs": [
        {
          "output_type": "stream",
          "name": "stdout",
          "text": [
            "List of numbers: [1, 2, 3, 4, 5]\n"
          ]
        }
      ]
    },
    {
      "cell_type": "markdown",
      "source": [
        "QUS 7:-  Write a code to append the number 10 to the list [1, 2, 3, 4]"
      ],
      "metadata": {
        "id": "x4T69qnXqsQ2"
      }
    },
    {
      "cell_type": "code",
      "source": [
        "# Define the list\n",
        "numbers = [1, 2, 3, 4]\n",
        "\n",
        "# Append the number 10\n",
        "numbers.append(10)\n",
        "\n",
        "# Print the updated list\n",
        "print(\"Updated list:\", numbers)\n"
      ],
      "metadata": {
        "colab": {
          "base_uri": "https://localhost:8080/"
        },
        "id": "B5r2n6RDqwll",
        "outputId": "5a295207-b67e-4f75-83d2-3e43e01c4d75"
      },
      "execution_count": 8,
      "outputs": [
        {
          "output_type": "stream",
          "name": "stdout",
          "text": [
            "Updated list: [1, 2, 3, 4, 10]\n"
          ]
        }
      ]
    },
    {
      "cell_type": "markdown",
      "source": [
        "QUS 8:-  Write a code to remove the number 3 from the list [1, 2, 3, 4, 5]\n"
      ],
      "metadata": {
        "id": "nEXj7z8mq1bO"
      }
    },
    {
      "cell_type": "code",
      "source": [
        "# Define the list\n",
        "numbers = [1, 2, 3, 4, 5]\n",
        "\n",
        "# Remove the number 3\n",
        "numbers.remove(3)\n",
        "\n",
        "# Print the updated list\n",
        "print(\"Updated list:\", numbers)\n"
      ],
      "metadata": {
        "colab": {
          "base_uri": "https://localhost:8080/"
        },
        "id": "UJumcu4TrCEj",
        "outputId": "fbe04a7d-9535-4336-cea6-38208d554cc3"
      },
      "execution_count": 9,
      "outputs": [
        {
          "output_type": "stream",
          "name": "stdout",
          "text": [
            "Updated list: [1, 2, 4, 5]\n"
          ]
        }
      ]
    },
    {
      "cell_type": "markdown",
      "source": [
        "QUS 9:-  Write a code to access the second element in the list ['a', 'b', 'c', 'd']\n"
      ],
      "metadata": {
        "id": "kzjVKEirrIlq"
      }
    },
    {
      "cell_type": "code",
      "source": [
        "# Define the list\n",
        "letters = ['a', 'b', 'c', 'd']\n",
        "\n",
        "# Access the second element (index 1)\n",
        "second_element = letters[1]\n",
        "\n",
        "# Print the result\n",
        "print(\"Second element:\", second_element)\n"
      ],
      "metadata": {
        "colab": {
          "base_uri": "https://localhost:8080/"
        },
        "id": "3MwZGpYkrSFh",
        "outputId": "9338398b-ebf8-4d40-e162-c3e7bf1cfa9a"
      },
      "execution_count": 10,
      "outputs": [
        {
          "output_type": "stream",
          "name": "stdout",
          "text": [
            "Second element: b\n"
          ]
        }
      ]
    },
    {
      "cell_type": "markdown",
      "source": [
        "QUS 10 :-  Write a code to reverse the list [10, 20, 30, 40, 50].\n"
      ],
      "metadata": {
        "id": "TTJhPbCurU4L"
      }
    },
    {
      "cell_type": "code",
      "source": [
        "numbers = [10, 20, 30, 40, 50]\n",
        "numbers.reverse()\n",
        "print(\"Reversed list:\", numbers)\n"
      ],
      "metadata": {
        "colab": {
          "base_uri": "https://localhost:8080/"
        },
        "id": "xTE7vELtrkkG",
        "outputId": "61e09c70-eb29-44de-bebf-503f248ef941"
      },
      "execution_count": 11,
      "outputs": [
        {
          "output_type": "stream",
          "name": "stdout",
          "text": [
            "Reversed list: [50, 40, 30, 20, 10]\n"
          ]
        }
      ]
    },
    {
      "cell_type": "markdown",
      "source": [
        "qus 11 :- Write a code to create a tuple with the elements 100, 200, 300 and print it.\n"
      ],
      "metadata": {
        "id": "F5uXaj1crqhS"
      }
    },
    {
      "cell_type": "code",
      "source": [
        "# Create the tuple\n",
        "numbers = (100, 200, 300)\n",
        "\n",
        "# Print the tuple\n",
        "print(\"Tuple:\", numbers)\n"
      ],
      "metadata": {
        "colab": {
          "base_uri": "https://localhost:8080/"
        },
        "id": "KthQvVWTr3EH",
        "outputId": "c39ae30a-97e1-4e01-b510-dfa27b20c722"
      },
      "execution_count": 12,
      "outputs": [
        {
          "output_type": "stream",
          "name": "stdout",
          "text": [
            "Tuple: (100, 200, 300)\n"
          ]
        }
      ]
    },
    {
      "cell_type": "markdown",
      "source": [
        "qus 12 :-  12. Write a code to access the second-to-last element of the tuple ('red', 'green', 'blue', 'yellow').\n"
      ],
      "metadata": {
        "id": "e-Ln2uE1r8JT"
      }
    },
    {
      "cell_type": "code",
      "source": [
        "# Define the tuple\n",
        "colors = ('red', 'green', 'blue', 'yellow')\n",
        "\n",
        "# Access the second-to-last element\n",
        "second_to_last = colors[-2]\n",
        "\n",
        "# Print the result\n",
        "print(\"Second-to-last element:\", second_to_last)\n"
      ],
      "metadata": {
        "colab": {
          "base_uri": "https://localhost:8080/"
        },
        "id": "g-b4GS8FsCCf",
        "outputId": "0452200c-f332-49a5-d246-62b0191792bd"
      },
      "execution_count": 13,
      "outputs": [
        {
          "output_type": "stream",
          "name": "stdout",
          "text": [
            "Second-to-last element: blue\n"
          ]
        }
      ]
    },
    {
      "cell_type": "markdown",
      "source": [
        "QUS 13 :-  13. Write a code to find the minimum number in the tuple (10, 20, 5, 15).\n"
      ],
      "metadata": {
        "id": "DjAKl-nxsMfH"
      }
    },
    {
      "cell_type": "code",
      "source": [
        "# Define the tuple\n",
        "numbers = (10, 20, 5, 15)\n",
        "\n",
        "# Find the minimum number\n",
        "min_value = min(numbers)\n",
        "\n",
        "# Print the result\n",
        "print(\"Minimum number:\", min_value)\n"
      ],
      "metadata": {
        "colab": {
          "base_uri": "https://localhost:8080/"
        },
        "id": "fHnP4rN2sRo1",
        "outputId": "b932e401-4ba3-4288-eeba-ca3a5fb831fd"
      },
      "execution_count": 14,
      "outputs": [
        {
          "output_type": "stream",
          "name": "stdout",
          "text": [
            "Minimum number: 5\n"
          ]
        }
      ]
    },
    {
      "cell_type": "markdown",
      "source": [
        "QUS 14 :-  14. Write a code to find the index of the element \"cat\" in the tuple ('dog', 'cat', 'rabbit').\n"
      ],
      "metadata": {
        "id": "BiG3XD-tsXBp"
      }
    },
    {
      "cell_type": "code",
      "source": [
        "# Define the tuple\n",
        "animals = ('dog', 'cat', 'rabbit')\n",
        "\n",
        "# Find the index of \"cat\"\n",
        "index_of_cat = animals.index('cat')\n",
        "\n",
        "# Print the result\n",
        "print(\"Index of 'cat':\", index_of_cat)\n"
      ],
      "metadata": {
        "colab": {
          "base_uri": "https://localhost:8080/"
        },
        "id": "UJqMwHIDsdR3",
        "outputId": "77ce832e-8f1a-4755-a33c-00099f0eeaaf"
      },
      "execution_count": 15,
      "outputs": [
        {
          "output_type": "stream",
          "name": "stdout",
          "text": [
            "Index of 'cat': 1\n"
          ]
        }
      ]
    },
    {
      "cell_type": "markdown",
      "source": [
        "QUS 15:- Write a code to create a tuple containing three different fruits and check if \"kiwi\" is in it.\n"
      ],
      "metadata": {
        "id": "3R4TWF0bsj2S"
      }
    },
    {
      "cell_type": "code",
      "source": [
        "# Create a tuple with fruits\n",
        "fruits = (\"apple\", \"banana\", \"orange\")\n",
        "\n",
        "# Check if \"kiwi\" is in the tuple\n",
        "if \"kiwi\" in fruits:\n",
        "    print(\"Kiwi is in the tuple.\")\n",
        "else:\n",
        "    print(\"Kiwi is not in the tuple.\")\n"
      ],
      "metadata": {
        "colab": {
          "base_uri": "https://localhost:8080/"
        },
        "id": "qfCcIQS1svOa",
        "outputId": "4db03bc1-2dd8-4bbb-964a-a5a69658d73f"
      },
      "execution_count": 16,
      "outputs": [
        {
          "output_type": "stream",
          "name": "stdout",
          "text": [
            "Kiwi is not in the tuple.\n"
          ]
        }
      ]
    },
    {
      "cell_type": "markdown",
      "source": [
        "QUS 16 :-  16. Write a code to create a set with the elements 'a', 'b', 'c' and print it.\n"
      ],
      "metadata": {
        "id": "437J1KuSszPl"
      }
    },
    {
      "cell_type": "code",
      "source": [
        "# Create a set\n",
        "letters = {'a', 'b', 'c'}\n",
        "\n",
        "# Print the set\n",
        "print(\"Set:\", letters)\n"
      ],
      "metadata": {
        "colab": {
          "base_uri": "https://localhost:8080/"
        },
        "id": "WlJsU5yCs779",
        "outputId": "560a87d4-a304-40a5-fed7-3878a49937cc"
      },
      "execution_count": 17,
      "outputs": [
        {
          "output_type": "stream",
          "name": "stdout",
          "text": [
            "Set: {'c', 'b', 'a'}\n"
          ]
        }
      ]
    },
    {
      "cell_type": "markdown",
      "source": [
        "QUS 17:- Write a code to clear all elements from the set {1, 2, 3, 4, 5}.\n"
      ],
      "metadata": {
        "id": "M1uM1ClDs-nX"
      }
    },
    {
      "cell_type": "code",
      "source": [
        "# Define the set\n",
        "numbers = {1, 2, 3, 4, 5}\n",
        "\n",
        "# Clear all elements\n",
        "numbers.clear()\n",
        "\n",
        "# Print the result\n",
        "print(\"Set after clearing:\", numbers)\n"
      ],
      "metadata": {
        "colab": {
          "base_uri": "https://localhost:8080/"
        },
        "id": "xEGLO1UntF7X",
        "outputId": "bdb63eb8-e2a8-4ca4-f4d8-3a055db76443"
      },
      "execution_count": 18,
      "outputs": [
        {
          "output_type": "stream",
          "name": "stdout",
          "text": [
            "Set after clearing: set()\n"
          ]
        }
      ]
    },
    {
      "cell_type": "markdown",
      "source": [
        "QUS 18:-  Write a code to remove the element 4 from the set {1, 2, 3, 4}"
      ],
      "metadata": {
        "id": "wwq-ug0ptQ7f"
      }
    },
    {
      "cell_type": "code",
      "source": [
        "# Define the set\n",
        "numbers = {1, 2, 3, 4}\n",
        "\n",
        "# Remove the element 4\n",
        "numbers.remove(4)\n",
        "\n",
        "# Print the updated set\n",
        "print(\"Set after removing 4:\", numbers)\n"
      ],
      "metadata": {
        "colab": {
          "base_uri": "https://localhost:8080/"
        },
        "id": "gp5vqB50tYav",
        "outputId": "68fcebe9-40b6-44be-f0a8-50d80061be55"
      },
      "execution_count": 19,
      "outputs": [
        {
          "output_type": "stream",
          "name": "stdout",
          "text": [
            "Set after removing 4: {1, 2, 3}\n"
          ]
        }
      ]
    },
    {
      "cell_type": "markdown",
      "source": [
        "QUS 19:- Write a code to find the union of two sets {1, 2, 3} and {3, 4, 5}.\n"
      ],
      "metadata": {
        "id": "EZQ4MY6LtgMR"
      }
    },
    {
      "cell_type": "code",
      "source": [
        "# Define the sets\n",
        "set1 = {1, 2, 3}\n",
        "set2 = {3, 4, 5}\n",
        "\n",
        "# Find the union\n",
        "union_set = set1.union(set2)\n",
        "\n",
        "# Print the result\n",
        "print(\"Union of sets:\", union_set)\n"
      ],
      "metadata": {
        "colab": {
          "base_uri": "https://localhost:8080/"
        },
        "id": "o0Wv-fortwKT",
        "outputId": "9e59ef68-a8e6-4f06-a724-01fa6c12954d"
      },
      "execution_count": 20,
      "outputs": [
        {
          "output_type": "stream",
          "name": "stdout",
          "text": [
            "Union of sets: {1, 2, 3, 4, 5}\n"
          ]
        }
      ]
    },
    {
      "cell_type": "markdown",
      "source": [
        "QUS 20 :- Write a code to find the intersection of two sets {1, 2, 3} and {2, 3, 4}.\n"
      ],
      "metadata": {
        "id": "1Ca_knT6tyfU"
      }
    },
    {
      "cell_type": "code",
      "source": [
        "# Define the sets\n",
        "set1 = {1, 2, 3}\n",
        "set2 = {2, 3, 4}\n",
        "\n",
        "# Find the intersection\n",
        "intersection_set = set1.intersection(set2)\n",
        "\n",
        "# Print the result\n",
        "print(\"Intersection of sets:\", intersection_set)\n"
      ],
      "metadata": {
        "colab": {
          "base_uri": "https://localhost:8080/"
        },
        "id": "SCTNpq0it5ts",
        "outputId": "d744f0cc-5ef2-4ea2-d5c0-b225f45e0400"
      },
      "execution_count": 21,
      "outputs": [
        {
          "output_type": "stream",
          "name": "stdout",
          "text": [
            "Intersection of sets: {2, 3}\n"
          ]
        }
      ]
    },
    {
      "cell_type": "markdown",
      "source": [
        "QUS 21 :- Write a code to create a dictionary with the keys \"name\", \"age\", and \"city\", and print it.\n"
      ],
      "metadata": {
        "id": "e6jKEsfYuD4v"
      }
    },
    {
      "cell_type": "code",
      "source": [
        "# Create the dictionary\n",
        "person = {\n",
        "    \"name\": \"Vikas\",\n",
        "    \"age\": 22,\n",
        "    \"city\": \"Delhi\"\n",
        "}\n",
        "\n",
        "# Print the dictionary\n",
        "print(\"Dictionary:\", person)\n"
      ],
      "metadata": {
        "colab": {
          "base_uri": "https://localhost:8080/"
        },
        "id": "EWT7lD9tuKLr",
        "outputId": "700c3033-1ea3-45ed-80ea-b0182fe1bc23"
      },
      "execution_count": 22,
      "outputs": [
        {
          "output_type": "stream",
          "name": "stdout",
          "text": [
            "Dictionary: {'name': 'Vikas', 'age': 22, 'city': 'Delhi'}\n"
          ]
        }
      ]
    },
    {
      "cell_type": "markdown",
      "source": [
        "QUS 22 :- Write a code to add a new key-value pair \"country\": \"USA\" to the dictionary {'name': 'John', 'age': 25}.\n",
        ""
      ],
      "metadata": {
        "id": "5C7IQJQYuVxi"
      }
    },
    {
      "cell_type": "code",
      "source": [
        "# Define the dictionary\n",
        "person = {'name': 'John', 'age': 25}\n",
        "\n",
        "# Add new key-value pair\n",
        "person['country'] = 'USA'\n",
        "\n",
        "# Print the updated dictionary\n",
        "print(\"Updated dictionary:\", person)\n"
      ],
      "metadata": {
        "colab": {
          "base_uri": "https://localhost:8080/"
        },
        "id": "Oc8-CAVfueLT",
        "outputId": "2163d153-ab8e-40a2-bdaf-43024c50baaa"
      },
      "execution_count": 23,
      "outputs": [
        {
          "output_type": "stream",
          "name": "stdout",
          "text": [
            "Updated dictionary: {'name': 'John', 'age': 25, 'country': 'USA'}\n"
          ]
        }
      ]
    },
    {
      "cell_type": "markdown",
      "source": [
        "QUS 23 :- Write a code to access the value associated with the key \"name\" in the dictionary {'name': 'Alice', 'age': 30}.\n"
      ],
      "metadata": {
        "id": "RN60JnBBuk2J"
      }
    },
    {
      "cell_type": "code",
      "source": [
        "# Define the dictionary\n",
        "person = {'name': 'Alice', 'age': 30}\n",
        "\n",
        "# Access the value of key \"name\"\n",
        "name_value = person['name']\n",
        "\n",
        "# Print the result\n",
        "print(\"Name:\", name_value)\n"
      ],
      "metadata": {
        "colab": {
          "base_uri": "https://localhost:8080/"
        },
        "id": "Ih_wkRcbuvP1",
        "outputId": "112e8fba-f7bc-4723-c260-c94a5f752835"
      },
      "execution_count": 24,
      "outputs": [
        {
          "output_type": "stream",
          "name": "stdout",
          "text": [
            "Name: Alice\n"
          ]
        }
      ]
    },
    {
      "cell_type": "markdown",
      "source": [
        "QUS 24:- Write a code to remove the key \"age\" from the dictionary {'name': 'Bob', 'age': 22, 'city': 'New York'}.\n"
      ],
      "metadata": {
        "id": "8VK0BVMSu00w"
      }
    },
    {
      "cell_type": "code",
      "source": [
        "# Define the dictionary\n",
        "person = {'name': 'Bob', 'age': 22, 'city': 'New York'}\n",
        "\n",
        "# Remove the key \"age\"\n",
        "person.pop('age')\n",
        "\n",
        "# Print the updated dictionary\n",
        "print(\"Updated dictionary:\", person)\n"
      ],
      "metadata": {
        "colab": {
          "base_uri": "https://localhost:8080/"
        },
        "id": "VsogDoIIu8BM",
        "outputId": "507404a9-b20b-440c-f02e-b57a0f54e184"
      },
      "execution_count": 25,
      "outputs": [
        {
          "output_type": "stream",
          "name": "stdout",
          "text": [
            "Updated dictionary: {'name': 'Bob', 'city': 'New York'}\n"
          ]
        }
      ]
    },
    {
      "cell_type": "markdown",
      "source": [
        "QUS 25:- Write a code to check if the key \"city\" exists in the dictionary {'name': 'Alice', 'city': 'Paris'}.\n"
      ],
      "metadata": {
        "id": "s2ExW3DvvCkb"
      }
    },
    {
      "cell_type": "code",
      "source": [
        "# Define the dictionary\n",
        "person = {'name': 'Alice', 'city': 'Paris'}\n",
        "\n",
        "# Check if \"city\" key exists\n",
        "if 'city' in person:\n",
        "    print(\"Key 'city' exists in the dictionary.\")\n",
        "else:\n",
        "    print(\"Key 'city' does not exist in the dictionary.\")\n"
      ],
      "metadata": {
        "colab": {
          "base_uri": "https://localhost:8080/"
        },
        "id": "R2hME2pYvMZB",
        "outputId": "062c4846-c390-49de-81c5-dd466b8ea617"
      },
      "execution_count": 26,
      "outputs": [
        {
          "output_type": "stream",
          "name": "stdout",
          "text": [
            "Key 'city' exists in the dictionary.\n"
          ]
        }
      ]
    },
    {
      "cell_type": "markdown",
      "source": [
        "QUS 26 :-Write a code to create a list, a tuple, and a dictionary, and print them all.\n"
      ],
      "metadata": {
        "id": "KkDpm-YNvUaQ"
      }
    },
    {
      "cell_type": "code",
      "source": [
        "# Create a list\n",
        "my_list = [1, 2, 3, 4, 5]\n",
        "\n",
        "# Create a tuple\n",
        "my_tuple = ('apple', 'banana', 'cherry')\n",
        "\n",
        "# Create a dictionary\n",
        "my_dict = {'name': 'Alice', 'age': 30, 'city': 'Paris'}\n",
        "\n",
        "# Print all of them\n",
        "print(\"List:\", my_list)\n",
        "print(\"Tuple:\", my_tuple)\n",
        "print(\"Dictionary:\", my_dict)\n"
      ],
      "metadata": {
        "colab": {
          "base_uri": "https://localhost:8080/"
        },
        "id": "zMk3rJNsvTJY",
        "outputId": "a1ea1338-49b4-4b83-d6f4-02aeef69f683"
      },
      "execution_count": 27,
      "outputs": [
        {
          "output_type": "stream",
          "name": "stdout",
          "text": [
            "List: [1, 2, 3, 4, 5]\n",
            "Tuple: ('apple', 'banana', 'cherry')\n",
            "Dictionary: {'name': 'Alice', 'age': 30, 'city': 'Paris'}\n"
          ]
        }
      ]
    },
    {
      "cell_type": "markdown",
      "source": [
        "QUS 27:- Write a code to create a list of 5 random numbers between 1 and 100, sort it in ascending order, and print the\n"
      ],
      "metadata": {
        "id": "7SVhfZ-BvqNY"
      }
    },
    {
      "cell_type": "code",
      "source": [
        "import random\n",
        "\n",
        "# Create a list of 5 random numbers between 1 and 100\n",
        "random_numbers = random.sample(range(1, 101), 5)\n",
        "\n",
        "# Sort the list in ascending order\n",
        "random_numbers.sort()\n",
        "\n",
        "# Print the sorted list\n",
        "print(\"Sorted list of random numbers:\", random_numbers)\n"
      ],
      "metadata": {
        "colab": {
          "base_uri": "https://localhost:8080/"
        },
        "id": "T11GoKBxvxxO",
        "outputId": "e86e2d59-3b36-40df-f5e3-bd8a2f205a07"
      },
      "execution_count": 28,
      "outputs": [
        {
          "output_type": "stream",
          "name": "stdout",
          "text": [
            "Sorted list of random numbers: [2, 10, 31, 80, 92]\n"
          ]
        }
      ]
    },
    {
      "cell_type": "markdown",
      "source": [
        "QUS 28 :-  Write a code to create a list with strings and print the element at the third index.\n"
      ],
      "metadata": {
        "id": "a4NQtG99v7o1"
      }
    },
    {
      "cell_type": "code",
      "source": [
        "# Create a list with strings\n",
        "fruits = [\"apple\", \"banana\", \"cherry\", \"date\", \"elderberry\"]\n",
        "\n",
        "# Print the element at the third index (indexing starts from 0)\n",
        "print(\"Element at third index:\", fruits[3])\n"
      ],
      "metadata": {
        "colab": {
          "base_uri": "https://localhost:8080/"
        },
        "id": "x9bcUzD0wFH4",
        "outputId": "8336314a-82ec-4e61-deba-57427500ba38"
      },
      "execution_count": 29,
      "outputs": [
        {
          "output_type": "stream",
          "name": "stdout",
          "text": [
            "Element at third index: date\n"
          ]
        }
      ]
    },
    {
      "cell_type": "markdown",
      "source": [
        "QUS 29 :- Write a code to combine two dictionaries into one and print the result.\n"
      ],
      "metadata": {
        "id": "omjVroEqwHhD"
      }
    },
    {
      "cell_type": "code",
      "source": [
        "# Define two dictionaries\n",
        "dict1 = {'a': 1, 'b': 2}\n",
        "dict2 = {'c': 3, 'd': 4}\n",
        "\n",
        "# Combine the dictionaries\n",
        "combined_dict = {**dict1, **dict2}\n",
        "\n",
        "# Print the combined dictionary\n",
        "print(\"Combined dictionary:\", combined_dict)\n"
      ],
      "metadata": {
        "colab": {
          "base_uri": "https://localhost:8080/"
        },
        "id": "egAIdxNPwN0T",
        "outputId": "99908742-012c-4dd1-809a-ca0d902159f1"
      },
      "execution_count": 30,
      "outputs": [
        {
          "output_type": "stream",
          "name": "stdout",
          "text": [
            "Combined dictionary: {'a': 1, 'b': 2, 'c': 3, 'd': 4}\n"
          ]
        }
      ]
    },
    {
      "cell_type": "markdown",
      "source": [
        "QUS 30:- Write a code to convert a list of strings into a set.\n"
      ],
      "metadata": {
        "id": "Rw6rzC5kwUKx"
      }
    },
    {
      "cell_type": "code",
      "source": [
        "# Define a list of strings\n",
        "string_list = [\"apple\", \"banana\", \"cherry\", \"apple\"]\n",
        "\n",
        "# Convert the list into a set\n",
        "string_set = set(string_list)\n",
        "\n",
        "# Print the set\n",
        "print(\"Set:\", string_set)\n"
      ],
      "metadata": {
        "colab": {
          "base_uri": "https://localhost:8080/"
        },
        "id": "5qiNBtMxwbYo",
        "outputId": "e8e67b90-2809-465d-e565-20b2d920b353"
      },
      "execution_count": 31,
      "outputs": [
        {
          "output_type": "stream",
          "name": "stdout",
          "text": [
            "Set: {'apple', 'banana', 'cherry'}\n"
          ]
        }
      ]
    }
  ]
}